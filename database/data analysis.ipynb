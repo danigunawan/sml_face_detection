{
 "cells": [
  {
   "cell_type": "code",
   "execution_count": 1,
   "metadata": {},
   "outputs": [],
   "source": [
    "import numpy as np\n",
    "import cv2"
   ]
  },
  {
   "cell_type": "markdown",
   "metadata": {},
   "source": [
    "# Face Pic"
   ]
  },
  {
   "cell_type": "code",
   "execution_count": 71,
   "metadata": {},
   "outputs": [],
   "source": [
    "i = 0"
   ]
  },
  {
   "cell_type": "code",
   "execution_count": 207,
   "metadata": {},
   "outputs": [],
   "source": [
    "a = np.array(np.load('face_container_1.npy'), dtype=np.uint8)"
   ]
  },
  {
   "cell_type": "code",
   "execution_count": 208,
   "metadata": {},
   "outputs": [
    {
     "data": {
      "text/plain": [
       "(2, 112, 112, 3)"
      ]
     },
     "execution_count": 208,
     "metadata": {},
     "output_type": "execute_result"
    }
   ],
   "source": [
    "a.shape"
   ]
  },
  {
   "cell_type": "code",
   "execution_count": 209,
   "metadata": {},
   "outputs": [],
   "source": [
    "# cv2.imshow('im', a[0])\n",
    "# cv2.imshow('im1', a[1])\n",
    "# cv2.imshow('im2', a[2])\n",
    "# cv2.imshow('im3', a[3])\n",
    "# cv2.imshow('im4', a[4])\n",
    "# cv2.imshow('im5', a[5])\n",
    "cv2.imshow('im6', a[0])\n",
    "\n",
    "cv2.waitKey(0)\n",
    "cv2.destroyAllWindows()"
   ]
  },
  {
   "cell_type": "markdown",
   "metadata": {},
   "source": [
    "# Emotion"
   ]
  },
  {
   "cell_type": "code",
   "execution_count": 210,
   "metadata": {},
   "outputs": [],
   "source": [
    "b = np.load('emotion_container_1.npy', allow_pickle=True)"
   ]
  },
  {
   "cell_type": "code",
   "execution_count": 211,
   "metadata": {},
   "outputs": [],
   "source": [
    "b = b.tolist()"
   ]
  },
  {
   "cell_type": "code",
   "execution_count": 212,
   "metadata": {},
   "outputs": [
    {
     "data": {
      "text/plain": [
       "2"
      ]
     },
     "execution_count": 212,
     "metadata": {},
     "output_type": "execute_result"
    }
   ],
   "source": [
    "len(b)"
   ]
  },
  {
   "cell_type": "code",
   "execution_count": 221,
   "metadata": {},
   "outputs": [],
   "source": [
    "i = 1"
   ]
  },
  {
   "cell_type": "code",
   "execution_count": 222,
   "metadata": {},
   "outputs": [
    {
     "name": "stdout",
     "output_type": "stream",
     "text": [
      "Happy percent: 1.48%; Sad percent: 96.32%; Neutral percent: 2.2%\n"
     ]
    }
   ],
   "source": [
    "sum_emotion = b[i].count('Sad') + b[i].count('Hap') + b[i].count('Neu')\n",
    "hap_per, sad_per, neu_per = round(b[i].count('Hap') * 100/ sum_emotion, 2), round(b[i].count('Sad') * 100/ sum_emotion, 2), round(b[i].count('Neu') * 100/ sum_emotion, 2)\n",
    "print('Happy percent: {}%; Sad percent: {}%; Neutral percent: {}%'.format(hap_per, sad_per, neu_per))  "
   ]
  },
  {
   "cell_type": "markdown",
   "metadata": {},
   "source": [
    "# Duration"
   ]
  },
  {
   "cell_type": "code",
   "execution_count": 197,
   "metadata": {},
   "outputs": [],
   "source": [
    "hour = 15\n",
    "minute = 20\n",
    "second = 3"
   ]
  },
  {
   "cell_type": "code",
   "execution_count": 215,
   "metadata": {},
   "outputs": [],
   "source": [
    "c = np.load('duration_container_1.npy', allow_pickle=True)"
   ]
  },
  {
   "cell_type": "code",
   "execution_count": 223,
   "metadata": {},
   "outputs": [],
   "source": [
    "i = 1"
   ]
  },
  {
   "cell_type": "code",
   "execution_count": 224,
   "metadata": {},
   "outputs": [],
   "source": [
    "time_seq = []\n",
    "for j in c[i]:\n",
    "    s = second + j // 30\n",
    "    m = minute + s // 60\n",
    "    s %= 60\n",
    "    h = hour + m // 60\n",
    "    m %= 60\n",
    "    time_seq.append((h, m, s))    "
   ]
  },
  {
   "cell_type": "code",
   "execution_count": 225,
   "metadata": {},
   "outputs": [
    {
     "name": "stdout",
     "output_type": "stream",
     "text": [
      "15:21:18\n",
      "15:30:3\n"
     ]
    }
   ],
   "source": [
    "print(['{}:{}:{}'.format(time_seq[j][0], time_seq[j][1], time_seq[j][2]) for j in range(len(time_seq))][0])\n",
    "print(['{}:{}:{}'.format(time_seq[j][0], time_seq[j][1], time_seq[j][2]) for j in range(len(time_seq))][-1])"
   ]
  },
  {
   "cell_type": "code",
   "execution_count": null,
   "metadata": {},
   "outputs": [],
   "source": []
  }
 ],
 "metadata": {
  "kernelspec": {
   "display_name": "people-counting-venv",
   "language": "python",
   "name": "people-counting-venv"
  },
  "language_info": {
   "codemirror_mode": {
    "name": "ipython",
    "version": 3
   },
   "file_extension": ".py",
   "mimetype": "text/x-python",
   "name": "python",
   "nbconvert_exporter": "python",
   "pygments_lexer": "ipython3",
   "version": "3.6.9"
  }
 },
 "nbformat": 4,
 "nbformat_minor": 2
}
